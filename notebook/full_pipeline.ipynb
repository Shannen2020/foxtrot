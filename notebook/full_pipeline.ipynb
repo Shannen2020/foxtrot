{
 "cells": [
  {
   "cell_type": "code",
   "execution_count": 3,
   "id": "708ab71b",
   "metadata": {},
   "outputs": [
    {
     "name": "stdout",
     "output_type": "stream",
     "text": [
      "Writing training.py\n"
     ]
    }
   ],
   "source": [
    "%%writefile training.py\n",
    "import pandas as pd\n",
    "\n",
    "from sklearn.model_selection import train_test_split\n",
    "from sklearn.ensemble import RandomForestClassifier, AdaBoostClassifier\n",
    "from sklearn.linear_model import LogisticRegression\n",
    "from sklearn.pipeline import Pipeline\n",
    "from sklearn.preprocessing import StandardScaler, OneHotEncoder\n",
    "from sklearn.compose import ColumnTransformer\n",
    "import logger\n",
    "\n",
    "import warnings\n",
    "warnings.filterwarnings(\"ignore\")\n",
    "\n",
    "def categorical_numeric_features(df, features):\n",
    "    \"\"\"\n",
    "    Splits a list of features into categorical and numerical features\n",
    "    \n",
    "    \"\"\"\n",
    "    cat_feat=[]\n",
    "    num_feat=[]\n",
    "    for i in features:\n",
    "        if df[i].dtype == 'object':\n",
    "            cat_feat.append(i)\n",
    "        else: num_feat.append(i)\n",
    "\n",
    "    return cat_feat, num_feat\n",
    "\n",
    "def run_model(data):\n",
    "    \n",
    "    logging.info(\"training started\")\n",
    "    \n",
    "    df = pd.read_csv(\"../data/bank-full.csv\", delimiter = \";\")\n",
    "    \n",
    "    cols_to_keep = ['age', 'job', 'marital', 'education', 'default', 'balance', 'housing',\n",
    "            'loan', 'contact', 'duration', 'campaign', 'previous', 'poutcome','y']\n",
    "    \n",
    "    test_df = df1.sample(frac=0.1, random_state=99)\n",
    "    \n",
    "    # Build model\n",
    "\n",
    "    y = df1.pop('y')\n",
    "    X = df1\n",
    "\n",
    "    X_train, X_val, y_train, y_val = train_test_split(X, y, test_size=0.2, random_state=99)\n",
    "    \n",
    "    numeric_transformer = Pipeline(steps=[(\"scaler\", StandardScaler())])\n",
    "    categorical_transformer = OneHotEncoder(handle_unknown = 'ignore')\n",
    "    \n",
    "    clf = Pipeline(steps=[(\"preprocessor\", preprocessor),\n",
    "                     (\"classifier\", LogisticRegression())])\n",
    "\n",
    "    clf.fit(X_train, y_train)\n",
    "\n",
    "    logging.info(\"model_score: {:.3f}\".format(clf.score(X_val, y_val)))\n",
    "    \n",
    "    logging.info(\"training completed\")\n",
    "    \n",
    "\n",
    "    if __name__ == '__main__':\n",
    "        run_model()"
   ]
  },
  {
   "cell_type": "code",
   "execution_count": null,
   "id": "1b36fc46",
   "metadata": {},
   "outputs": [],
   "source": []
  }
 ],
 "metadata": {
  "kernelspec": {
   "display_name": "Python 3 (ipykernel)",
   "language": "python",
   "name": "python3"
  },
  "language_info": {
   "codemirror_mode": {
    "name": "ipython",
    "version": 3
   },
   "file_extension": ".py",
   "mimetype": "text/x-python",
   "name": "python",
   "nbconvert_exporter": "python",
   "pygments_lexer": "ipython3",
   "version": "3.9.7"
  }
 },
 "nbformat": 4,
 "nbformat_minor": 5
}
